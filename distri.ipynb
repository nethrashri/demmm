{
 "cells": [
  {
   "cell_type": "code",
   "execution_count": null,
   "id": "5e3e1fac-a77f-4fa6-a126-37b6779ec07b",
   "metadata": {},
   "outputs": [],
   "source": [
    "import pandas as pd\n",
    "import matplotlib.pyplot as plt\n",
    "import seaborn as sns\n",
    "\n",
    "# Load the data\n",
    "df = pd.read_csv('user_device_usage_pattern_V4.csv')\n"
   ]
  },
  {
   "cell_type": "code",
   "execution_count": null,
   "id": "05fb66f1-fa0f-4e74-8270-7676616c6ca1",
   "metadata": {},
   "outputs": [],
   "source": [
    "\n",
    "# Basic statistics\n",
    "print(\"Basic Statistics:\")\n",
    "print(df[['signal_strength', 'packet_loss_rate', 'latency', 'jitter_ms', 'bandwidth_speed_per_sec_mbps']].describe())\n"
   ]
  },
  {
   "cell_type": "code",
   "execution_count": null,
   "id": "135712ef-c73d-4146-9a5e-02e13b607f62",
   "metadata": {},
   "outputs": [],
   "source": [
    "\n",
    "# Histograms for each network metric\n",
    "plt.figure(figsize=(15, 10))\n",
    "for i, column in enumerate(['signal_strength', 'packet_loss_rate', 'latency', 'jitter_ms', 'bandwidth_speed_per_sec_mbps'], 1):\n",
    "    plt.subplot(2, 3, i)\n",
    "    sns.histplot(df[column], kde=True)\n",
    "    plt.title(f'Distribution of {column}')\n",
    "plt.tight_layout()\n",
    "plt.show()\n"
   ]
  },
  {
   "cell_type": "code",
   "execution_count": null,
   "id": "c3837304-b30a-4fcb-91d8-42ee18849d86",
   "metadata": {},
   "outputs": [],
   "source": []
  },
  {
   "cell_type": "code",
   "execution_count": null,
   "id": "17ae7523-a8f5-4976-9821-b6d2c74317c8",
   "metadata": {},
   "outputs": [],
   "source": [
    "\n",
    "# Box plots to check for outliers\n",
    "plt.figure(figsize=(15, 10))\n",
    "for i, column in enumerate(['signal_strength', 'packet_loss_rate', 'latency', 'jitter_ms', 'bandwidth_speed_per_sec_mbps'], 1):\n",
    "    plt.subplot(2, 3, i)\n",
    "    sns.boxplot(x=df[column])\n",
    "    plt.title(f'Box plot of {column}')\n",
    "plt.tight_layout()\n",
    "plt.show()\n"
   ]
  },
  {
   "cell_type": "code",
   "execution_count": null,
   "id": "8f882703-d1d4-484f-a89b-daef20792b0b",
   "metadata": {},
   "outputs": [],
   "source": [
    "\n",
    "# Correlation matrix\n",
    "correlation = df[['signal_strength', 'packet_loss_rate', 'latency', 'jitter_ms', 'bandwidth_speed_per_sec_mbps']].corr()\n",
    "plt.figure(figsize=(8, 6))\n",
    "sns.heatmap(correlation, annot=True, cmap='coolwarm', fmt=\".2f\")\n",
    "plt.title('Correlation Matrix')\n",
    "plt.show()\n"
   ]
  },
  {
   "cell_type": "code",
   "execution_count": null,
   "id": "0c15f236-42fb-45a5-a1e0-55efc7a513a5",
   "metadata": {},
   "outputs": [],
   "source": [
    "\n",
    "# Time series analysis of average metrics by hour (assuming timestamp is in correct format)\n",
    "df['timestamp'] = pd.to_datetime(df['timestamp'])\n",
    "df.set_index('timestamp', inplace=True)\n",
    "plt.figure(figsize=(15, 10))\n",
    "for i, column in enumerate(['signal_strength', 'packet_loss_rate', 'latency', 'jitter_ms', 'bandwidth_speed_per_sec_mbps'], 1):\n",
    "    plt.subplot(2, 3, i)\n",
    "    df[column].resample('H').mean().plot()\n",
    "    plt.title(f'Hourly Trend of {column}')\n",
    "    plt.ylabel(column)\n",
    "plt.tight_layout()\n",
    "plt.show()\n"
   ]
  },
  {
   "cell_type": "code",
   "execution_count": null,
   "id": "92d52be5-b873-4a0b-a623-3ebcac3e9e47",
   "metadata": {},
   "outputs": [],
   "source": []
  },
  {
   "cell_type": "code",
   "execution_count": null,
   "id": "84b1492e-aa16-4128-a75a-67dea5a437bf",
   "metadata": {},
   "outputs": [],
   "source": []
  },
  {
   "cell_type": "code",
   "execution_count": null,
   "id": "60448231-7e9f-40a7-9e02-60c4215c8fc3",
   "metadata": {},
   "outputs": [],
   "source": []
  }
 ],
 "metadata": {
  "kernelspec": {
   "display_name": "Python 3 (ipykernel)",
   "language": "python",
   "name": "python3"
  },
  "language_info": {
   "codemirror_mode": {
    "name": "ipython",
    "version": 3
   },
   "file_extension": ".py",
   "mimetype": "text/x-python",
   "name": "python",
   "nbconvert_exporter": "python",
   "pygments_lexer": "ipython3",
   "version": "3.11.5"
  }
 },
 "nbformat": 4,
 "nbformat_minor": 5
}
